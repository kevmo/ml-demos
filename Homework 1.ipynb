{
 "cells": [
  {
   "cell_type": "markdown",
   "id": "caf40d7a",
   "metadata": {},
   "source": [
    "# Homework 1\n",
    "\n",
    "[Main Repo](https://github.com/DataTalksClub/machine-learning-zoomcamp/tree/master)\n",
    "\n",
    "[Homework 1](https://github.com/DataTalksClub/machine-learning-zoomcamp/blob/master/cohorts/2023/01-intro/homework.md)"
   ]
  },
  {
   "cell_type": "markdown",
   "id": "6370e5da",
   "metadata": {},
   "source": [
    "### 1. Which versions of pandas?"
   ]
  },
  {
   "cell_type": "code",
   "execution_count": 1,
   "id": "ac76a697",
   "metadata": {},
   "outputs": [
    {
     "name": "stdout",
     "output_type": "stream",
     "text": [
      "2.0.3\n"
     ]
    }
   ],
   "source": [
    "import pandas as pd\n",
    "\n",
    "print(pd.__version__)"
   ]
  },
  {
   "cell_type": "code",
   "execution_count": 2,
   "id": "f807f978",
   "metadata": {},
   "outputs": [
    {
     "name": "stdout",
     "output_type": "stream",
     "text": [
      "0.19.3\n"
     ]
    }
   ],
   "source": [
    "import polars as pl\n",
    "\n",
    "print(pl.__version__)\n",
    "\n"
   ]
  },
  {
   "cell_type": "markdown",
   "id": "84b35a7a",
   "metadata": {},
   "source": [
    "### 2. Ingest dataset & Inspect"
   ]
  },
  {
   "cell_type": "code",
   "execution_count": 3,
   "id": "13de8172",
   "metadata": {},
   "outputs": [
    {
     "name": "stdout",
     "output_type": "stream",
     "text": [
      "10  COLUMNS:  Index(['longitude', 'latitude', 'housing_median_age', 'total_rooms',\n",
      "       'total_bedrooms', 'population', 'households', 'median_income',\n",
      "       'median_house_value', 'ocean_proximity'],\n",
      "      dtype='object')\n"
     ]
    }
   ],
   "source": [
    "## PANDAS\n",
    "\n",
    "CSV_DATA_PATH = \"./housing.csv\"\n",
    "\n",
    "df = pd.read_csv(CSV_DATA_PATH)\n",
    "\n",
    "columns = df.columns\n",
    "\n",
    "print(len(columns), \" COLUMNS: \", columns)"
   ]
  },
  {
   "cell_type": "code",
   "execution_count": 4,
   "id": "d6a68b22",
   "metadata": {},
   "outputs": [
    {
     "name": "stdout",
     "output_type": "stream",
     "text": [
      "10  COLUMNS:  ['longitude', 'latitude', 'housing_median_age', 'total_rooms', 'total_bedrooms', 'population', 'households', 'median_income', 'median_house_value', 'ocean_proximity']\n"
     ]
    }
   ],
   "source": [
    "### POLARS\n",
    "\n",
    "pl_df = pl.read_csv(CSV_DATA_PATH)\n",
    "\n",
    "pl_columns = pl_df.columns\n",
    "\n",
    "print(len(pl_columns), \" COLUMNS: \", pl_columns)"
   ]
  },
  {
   "cell_type": "markdown",
   "id": "9ec7cd04",
   "metadata": {},
   "source": [
    "### 3. Missing data?"
   ]
  },
  {
   "cell_type": "code",
   "execution_count": 5,
   "id": "d130586c",
   "metadata": {},
   "outputs": [
    {
     "name": "stdout",
     "output_type": "stream",
     "text": [
      "['total_bedrooms']\n"
     ]
    }
   ],
   "source": [
    "### PANDAS\n",
    "\n",
    "missing_columns_df = df.columns[df.isnull().any()].tolist()\n",
    "print(missing_columns_df)\n"
   ]
  },
  {
   "cell_type": "code",
   "execution_count": 6,
   "id": "0f0d684a",
   "metadata": {},
   "outputs": [
    {
     "name": "stdout",
     "output_type": "stream",
     "text": [
      "['total_bedrooms']\n"
     ]
    }
   ],
   "source": [
    "### POLARS\n",
    "\n",
    "missing_columns_pl = [col for col in pl_df.columns if pl_df.filter(pl_df[col].is_null()).height > 0]\n",
    "print(missing_columns_pl)\n"
   ]
  },
  {
   "cell_type": "markdown",
   "id": "4e71336e",
   "metadata": {},
   "source": [
    "### 4. Unique Values"
   ]
  },
  {
   "cell_type": "code",
   "execution_count": 7,
   "id": "dec78efc",
   "metadata": {},
   "outputs": [
    {
     "name": "stdout",
     "output_type": "stream",
     "text": [
      "5\n"
     ]
    }
   ],
   "source": [
    "### PANDAS\n",
    "\n",
    "unique_values = df['ocean_proximity'].nunique()\n",
    "print(unique_values)\n"
   ]
  },
  {
   "cell_type": "code",
   "execution_count": 8,
   "id": "7308db01",
   "metadata": {},
   "outputs": [
    {
     "name": "stdout",
     "output_type": "stream",
     "text": [
      "5\n"
     ]
    }
   ],
   "source": [
    "### POLARS\n",
    "\n",
    "unique_values_pl = pl_df.group_by('ocean_proximity').agg(pl.count('ocean_proximity').alias('count')).shape[0]\n",
    "print(unique_values_pl)\n"
   ]
  },
  {
   "cell_type": "markdown",
   "id": "1ec75a02",
   "metadata": {},
   "source": [
    "### 5.  Filtering"
   ]
  },
  {
   "cell_type": "code",
   "execution_count": 11,
   "id": "46a84eee",
   "metadata": {},
   "outputs": [
    {
     "name": "stdout",
     "output_type": "stream",
     "text": [
      "259212.31179039303\n"
     ]
    }
   ],
   "source": [
    "### PANDAS\n",
    "\n",
    "avg_value = df[df['ocean_proximity'] == 'NEAR BAY']['median_house_value'].mean()\n",
    "\n",
    "print(avg_value)"
   ]
  },
  {
   "cell_type": "code",
   "execution_count": 12,
   "id": "496a1817",
   "metadata": {},
   "outputs": [],
   "source": [
    "### POLARS\n",
    "\n"
   ]
  },
  {
   "cell_type": "markdown",
   "id": "8040ffb4",
   "metadata": {},
   "source": [
    "### 6. Imputing Missing Values"
   ]
  },
  {
   "cell_type": "code",
   "execution_count": 15,
   "id": "8468f549",
   "metadata": {},
   "outputs": [
    {
     "name": "stdout",
     "output_type": "stream",
     "text": [
      "Average before filling NA: 537.8705525375617\n",
      "Average after filling NA: 537.8705525375617\n",
      "Has the average changed? False\n"
     ]
    }
   ],
   "source": [
    "# 1. Calculate the average of total_bedrooms column in the dataset.\n",
    "mean_before = df['total_bedrooms'].mean()\n",
    "print(f\"Average before filling NA: {mean_before}\")\n",
    "\n",
    "# 2. Use the fillna method to fill the missing values in total_bedrooms with the mean value from the previous step.\n",
    "df['total_bedrooms'].fillna(mean_before, inplace=True)\n",
    "\n",
    "# 3. Now, calculate the average of total_bedrooms again.\n",
    "mean_after = df['total_bedrooms'].mean()\n",
    "print(f\"Average after filling NA: {mean_after}\")\n",
    "\n",
    "# 4. Has it changed?\n",
    "print(\"Has the average changed?\", mean_before != mean_after)\n"
   ]
  },
  {
   "cell_type": "code",
   "execution_count": null,
   "id": "5b808fa7",
   "metadata": {},
   "outputs": [],
   "source": []
  },
  {
   "cell_type": "markdown",
   "id": "787b9646",
   "metadata": {},
   "source": [
    "### 7. Training a Linear Regression Model\n"
   ]
  },
  {
   "cell_type": "code",
   "execution_count": 30,
   "id": "1e212a6c",
   "metadata": {},
   "outputs": [
    {
     "name": "stdout",
     "output_type": "stream",
     "text": [
      "[[  27. 1675.  521.]\n",
      " [  52. 2359.  591.]\n",
      " [  52. 2127.  512.]\n",
      " [  52.  996.  264.]\n",
      " [  29.  716.  214.]]\n",
      "[[9.6820000e+03 3.5105300e+05 9.1357000e+04]\n",
      " [3.5105300e+05 1.4399307e+07 3.7720360e+06]\n",
      " [9.1357000e+04 3.7720360e+06 9.9835800e+05]]\n"
     ]
    }
   ],
   "source": [
    "import numpy as np\n",
    "\n",
    "#     Select all the options located on islands.\n",
    "\n",
    "df_islands = df[df['ocean_proximity'] == 'ISLAND']\n",
    "\n",
    "#     Select only columns housing_median_age, total_rooms, total_bedrooms.\n",
    "\n",
    "selected_data = df_islands[['housing_median_age', 'total_rooms', 'total_bedrooms']]\n",
    "\n",
    "#     Get the underlying NumPy array. Let's call it X.\n",
    "\n",
    "X = selected_data.values\n",
    "\n",
    "print(X)\n",
    "\n",
    "#     Compute matrix-matrix multiplication between the transpose of X and X. \n",
    "#     To get the transpose, use X.T. Let's call the result XTX.\n",
    "\n",
    "XTX = X.T.dot(X)\n",
    "\n",
    "print(XTX)\n",
    "\n",
    "#     Compute the inverse of XTX.\n",
    "\n",
    "XTX_inv = np.linalg.inv(XTX)\n",
    "\n",
    "\n",
    "#     Create an array y with values [950, 1300, 800, 1000, 1300].\n",
    "\n",
    "y = \n",
    "\n",
    "\n",
    "#     Multiply the inverse of XTX with the transpose of X, and then multiply the result by y. Call the result w.\n",
    "\n",
    "\n",
    "\n",
    "#     What's the value of the last element of w?"
   ]
  },
  {
   "cell_type": "code",
   "execution_count": null,
   "id": "55e8ef73",
   "metadata": {},
   "outputs": [],
   "source": []
  },
  {
   "cell_type": "code",
   "execution_count": null,
   "id": "ab462a4d",
   "metadata": {},
   "outputs": [],
   "source": []
  },
  {
   "cell_type": "markdown",
   "id": "de7241e0",
   "metadata": {},
   "source": [
    "## PART II: Exploratory Data Analysis\n",
    "\n",
    "https://pandas.pydata.org/docs/user_guide"
   ]
  },
  {
   "cell_type": "code",
   "execution_count": 16,
   "id": "f8d4fccc",
   "metadata": {},
   "outputs": [
    {
     "data": {
      "text/html": [
       "<div>\n",
       "<style scoped>\n",
       "    .dataframe tbody tr th:only-of-type {\n",
       "        vertical-align: middle;\n",
       "    }\n",
       "\n",
       "    .dataframe tbody tr th {\n",
       "        vertical-align: top;\n",
       "    }\n",
       "\n",
       "    .dataframe thead th {\n",
       "        text-align: right;\n",
       "    }\n",
       "</style>\n",
       "<table border=\"1\" class=\"dataframe\">\n",
       "  <thead>\n",
       "    <tr style=\"text-align: right;\">\n",
       "      <th></th>\n",
       "      <th>longitude</th>\n",
       "      <th>latitude</th>\n",
       "      <th>housing_median_age</th>\n",
       "      <th>total_rooms</th>\n",
       "      <th>total_bedrooms</th>\n",
       "      <th>population</th>\n",
       "      <th>households</th>\n",
       "      <th>median_income</th>\n",
       "      <th>median_house_value</th>\n",
       "      <th>ocean_proximity</th>\n",
       "    </tr>\n",
       "  </thead>\n",
       "  <tbody>\n",
       "    <tr>\n",
       "      <th>0</th>\n",
       "      <td>-122.23</td>\n",
       "      <td>37.88</td>\n",
       "      <td>41.0</td>\n",
       "      <td>880.0</td>\n",
       "      <td>129.0</td>\n",
       "      <td>322.0</td>\n",
       "      <td>126.0</td>\n",
       "      <td>8.3252</td>\n",
       "      <td>452600.0</td>\n",
       "      <td>NEAR BAY</td>\n",
       "    </tr>\n",
       "    <tr>\n",
       "      <th>1</th>\n",
       "      <td>-122.22</td>\n",
       "      <td>37.86</td>\n",
       "      <td>21.0</td>\n",
       "      <td>7099.0</td>\n",
       "      <td>1106.0</td>\n",
       "      <td>2401.0</td>\n",
       "      <td>1138.0</td>\n",
       "      <td>8.3014</td>\n",
       "      <td>358500.0</td>\n",
       "      <td>NEAR BAY</td>\n",
       "    </tr>\n",
       "    <tr>\n",
       "      <th>2</th>\n",
       "      <td>-122.24</td>\n",
       "      <td>37.85</td>\n",
       "      <td>52.0</td>\n",
       "      <td>1467.0</td>\n",
       "      <td>190.0</td>\n",
       "      <td>496.0</td>\n",
       "      <td>177.0</td>\n",
       "      <td>7.2574</td>\n",
       "      <td>352100.0</td>\n",
       "      <td>NEAR BAY</td>\n",
       "    </tr>\n",
       "    <tr>\n",
       "      <th>3</th>\n",
       "      <td>-122.25</td>\n",
       "      <td>37.85</td>\n",
       "      <td>52.0</td>\n",
       "      <td>1274.0</td>\n",
       "      <td>235.0</td>\n",
       "      <td>558.0</td>\n",
       "      <td>219.0</td>\n",
       "      <td>5.6431</td>\n",
       "      <td>341300.0</td>\n",
       "      <td>NEAR BAY</td>\n",
       "    </tr>\n",
       "    <tr>\n",
       "      <th>4</th>\n",
       "      <td>-122.25</td>\n",
       "      <td>37.85</td>\n",
       "      <td>52.0</td>\n",
       "      <td>1627.0</td>\n",
       "      <td>280.0</td>\n",
       "      <td>565.0</td>\n",
       "      <td>259.0</td>\n",
       "      <td>3.8462</td>\n",
       "      <td>342200.0</td>\n",
       "      <td>NEAR BAY</td>\n",
       "    </tr>\n",
       "  </tbody>\n",
       "</table>\n",
       "</div>"
      ],
      "text/plain": [
       "   longitude  latitude  housing_median_age  total_rooms  total_bedrooms  \\\n",
       "0    -122.23     37.88                41.0        880.0           129.0   \n",
       "1    -122.22     37.86                21.0       7099.0          1106.0   \n",
       "2    -122.24     37.85                52.0       1467.0           190.0   \n",
       "3    -122.25     37.85                52.0       1274.0           235.0   \n",
       "4    -122.25     37.85                52.0       1627.0           280.0   \n",
       "\n",
       "   population  households  median_income  median_house_value ocean_proximity  \n",
       "0       322.0       126.0         8.3252            452600.0        NEAR BAY  \n",
       "1      2401.0      1138.0         8.3014            358500.0        NEAR BAY  \n",
       "2       496.0       177.0         7.2574            352100.0        NEAR BAY  \n",
       "3       558.0       219.0         5.6431            341300.0        NEAR BAY  \n",
       "4       565.0       259.0         3.8462            342200.0        NEAR BAY  "
      ]
     },
     "execution_count": 16,
     "metadata": {},
     "output_type": "execute_result"
    }
   ],
   "source": [
    "df.head()"
   ]
  },
  {
   "cell_type": "code",
   "execution_count": 24,
   "id": "7e5c86a7",
   "metadata": {},
   "outputs": [
    {
     "name": "stdout",
     "output_type": "stream",
     "text": [
      "['NEAR BAY' '<1H OCEAN' 'INLAND' 'NEAR OCEAN' 'ISLAND']\n",
      "5\n"
     ]
    }
   ],
   "source": [
    "print(df['ocean_proximity'].unique())\n",
    "\n",
    "print(df['ocean_proximity'].nunique())"
   ]
  },
  {
   "cell_type": "code",
   "execution_count": null,
   "id": "3d531747",
   "metadata": {},
   "outputs": [],
   "source": []
  },
  {
   "cell_type": "code",
   "execution_count": null,
   "id": "22ae785f",
   "metadata": {},
   "outputs": [],
   "source": []
  }
 ],
 "metadata": {
  "kernelspec": {
   "display_name": "Python 3 (ipykernel)",
   "language": "python",
   "name": "python3"
  },
  "language_info": {
   "codemirror_mode": {
    "name": "ipython",
    "version": 3
   },
   "file_extension": ".py",
   "mimetype": "text/x-python",
   "name": "python",
   "nbconvert_exporter": "python",
   "pygments_lexer": "ipython3",
   "version": "3.9.18"
  }
 },
 "nbformat": 4,
 "nbformat_minor": 5
}
