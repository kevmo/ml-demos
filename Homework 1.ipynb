{
 "cells": [
  {
   "cell_type": "markdown",
   "id": "caf40d7a",
   "metadata": {},
   "source": [
    "# Homework 1\n",
    "\n",
    "[Main Repo](https://github.com/DataTalksClub/machine-learning-zoomcamp/tree/master)\n",
    "\n",
    "[Homework 1](https://github.com/DataTalksClub/machine-learning-zoomcamp/blob/master/cohorts/2023/01-intro/homework.md)"
   ]
  },
  {
   "cell_type": "markdown",
   "id": "6370e5da",
   "metadata": {},
   "source": [
    "### 1. Which versions of pandas?"
   ]
  },
  {
   "cell_type": "code",
   "execution_count": 1,
   "id": "ac76a697",
   "metadata": {},
   "outputs": [
    {
     "name": "stdout",
     "output_type": "stream",
     "text": [
      "2.0.3\n"
     ]
    }
   ],
   "source": [
    "import pandas as pd\n",
    "\n",
    "print(pd.__version__)"
   ]
  },
  {
   "cell_type": "code",
   "execution_count": 2,
   "id": "f807f978",
   "metadata": {},
   "outputs": [
    {
     "name": "stdout",
     "output_type": "stream",
     "text": [
      "0.19.3\n"
     ]
    }
   ],
   "source": [
    "import polars as pl\n",
    "\n",
    "print(pl.__version__)\n",
    "\n"
   ]
  },
  {
   "cell_type": "markdown",
   "id": "84b35a7a",
   "metadata": {},
   "source": [
    "### 2. Ingest dataset & Inspect"
   ]
  },
  {
   "cell_type": "code",
   "execution_count": 3,
   "id": "13de8172",
   "metadata": {},
   "outputs": [
    {
     "name": "stdout",
     "output_type": "stream",
     "text": [
      "10  COLUMNS:  Index(['longitude', 'latitude', 'housing_median_age', 'total_rooms',\n",
      "       'total_bedrooms', 'population', 'households', 'median_income',\n",
      "       'median_house_value', 'ocean_proximity'],\n",
      "      dtype='object')\n"
     ]
    }
   ],
   "source": [
    "## PANDAS\n",
    "\n",
    "CSV_DATA_PATH = \"./housing.csv\"\n",
    "\n",
    "df = pd.read_csv(CSV_DATA_PATH)\n",
    "\n",
    "columns = df.columns\n",
    "\n",
    "print(len(columns), \" COLUMNS: \", columns)"
   ]
  },
  {
   "cell_type": "code",
   "execution_count": 4,
   "id": "d6a68b22",
   "metadata": {},
   "outputs": [
    {
     "name": "stdout",
     "output_type": "stream",
     "text": [
      "10  COLUMNS:  ['longitude', 'latitude', 'housing_median_age', 'total_rooms', 'total_bedrooms', 'population', 'households', 'median_income', 'median_house_value', 'ocean_proximity']\n"
     ]
    }
   ],
   "source": [
    "### POLARS\n",
    "\n",
    "pl_df = pl.read_csv(CSV_DATA_PATH)\n",
    "\n",
    "pl_columns = pl_df.columns\n",
    "\n",
    "print(len(pl_columns), \" COLUMNS: \", pl_columns)"
   ]
  },
  {
   "cell_type": "markdown",
   "id": "9ec7cd04",
   "metadata": {},
   "source": [
    "### 3. Missing data?"
   ]
  },
  {
   "cell_type": "code",
   "execution_count": 5,
   "id": "d130586c",
   "metadata": {},
   "outputs": [
    {
     "name": "stdout",
     "output_type": "stream",
     "text": [
      "['total_bedrooms']\n"
     ]
    }
   ],
   "source": [
    "### PANDAS\n",
    "\n",
    "missing_columns_df = df.columns[df.isnull().any()].tolist()\n",
    "print(missing_columns_df)\n"
   ]
  },
  {
   "cell_type": "code",
   "execution_count": 6,
   "id": "0f0d684a",
   "metadata": {},
   "outputs": [
    {
     "name": "stdout",
     "output_type": "stream",
     "text": [
      "['total_bedrooms']\n"
     ]
    }
   ],
   "source": [
    "### POLARS\n",
    "\n",
    "missing_columns_pl = [col for col in pl_df.columns if pl_df.filter(pl_df[col].is_null()).height > 0]\n",
    "print(missing_columns_pl)\n"
   ]
  },
  {
   "cell_type": "markdown",
   "id": "4e71336e",
   "metadata": {},
   "source": [
    "### 4. Unique Values"
   ]
  },
  {
   "cell_type": "code",
   "execution_count": 7,
   "id": "dec78efc",
   "metadata": {},
   "outputs": [
    {
     "name": "stdout",
     "output_type": "stream",
     "text": [
      "5\n"
     ]
    }
   ],
   "source": [
    "### PANDAS\n",
    "\n",
    "unique_values = df['ocean_proximity'].nunique()\n",
    "print(unique_values)\n"
   ]
  },
  {
   "cell_type": "code",
   "execution_count": 8,
   "id": "7308db01",
   "metadata": {},
   "outputs": [
    {
     "name": "stdout",
     "output_type": "stream",
     "text": [
      "5\n"
     ]
    }
   ],
   "source": [
    "### POLARS\n",
    "\n",
    "unique_values_pl = pl_df.group_by('ocean_proximity').agg(pl.count('ocean_proximity').alias('count')).shape[0]\n",
    "print(unique_values_pl)\n"
   ]
  },
  {
   "cell_type": "markdown",
   "id": "eaa6880f",
   "metadata": {},
   "source": [
    "### 5.  Filtering"
   ]
  },
  {
   "cell_type": "code",
   "execution_count": 11,
   "id": "ec1b32d0",
   "metadata": {},
   "outputs": [
    {
     "name": "stdout",
     "output_type": "stream",
     "text": [
      "259212.31179039303\n"
     ]
    }
   ],
   "source": [
    "### PANDAS\n",
    "\n",
    "avg_value = df[df['ocean_proximity'] == 'NEAR BAY']['median_house_value'].mean()\n",
    "\n",
    "print(avg_value)"
   ]
  },
  {
   "cell_type": "code",
   "execution_count": 12,
   "id": "8b8f6703",
   "metadata": {},
   "outputs": [],
   "source": [
    "### POLARS\n",
    "\n"
   ]
  },
  {
   "cell_type": "markdown",
   "id": "e2f8491f",
   "metadata": {},
   "source": [
    "### 6. "
   ]
  },
  {
   "cell_type": "code",
   "execution_count": null,
   "id": "538e107f",
   "metadata": {},
   "outputs": [],
   "source": []
  },
  {
   "cell_type": "markdown",
   "id": "b328233a",
   "metadata": {},
   "source": [
    "### Linear Regression"
   ]
  },
  {
   "cell_type": "code",
   "execution_count": null,
   "id": "13b998a7",
   "metadata": {},
   "outputs": [],
   "source": []
  }
 ],
 "metadata": {
  "kernelspec": {
   "display_name": "Python 3 (ipykernel)",
   "language": "python",
   "name": "python3"
  },
  "language_info": {
   "codemirror_mode": {
    "name": "ipython",
    "version": 3
   },
   "file_extension": ".py",
   "mimetype": "text/x-python",
   "name": "python",
   "nbconvert_exporter": "python",
   "pygments_lexer": "ipython3",
   "version": "3.9.18"
  }
 },
 "nbformat": 4,
 "nbformat_minor": 5
}
