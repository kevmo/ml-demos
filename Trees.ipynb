{
 "cells": [
  {
   "cell_type": "code",
   "execution_count": 1,
   "id": "1bf5b80c",
   "metadata": {},
   "outputs": [
    {
     "name": "stdout",
     "output_type": "stream",
     "text": [
      "|--- median_house_value <= 11.95\n",
      "|   |--- value: [11.49]\n",
      "|--- median_house_value >  11.95\n",
      "|   |--- value: [12.41]\n",
      "\n"
     ]
    }
   ],
   "source": [
    "import pandas as pd\n",
    "from sklearn.tree import DecisionTreeRegressor, export_text\n",
    "from sklearn.model_selection import train_test_split\n",
    "from sklearn.feature_extraction import DictVectorizer\n",
    "import numpy as np\n",
    "\n",
    "# Step 1: Load the data\n",
    "data = pd.read_csv('housing.csv')\n",
    "\n",
    "# Step 2: Filter the data\n",
    "data = data[data['ocean_proximity'].isin(['<1H OCEAN', 'INLAND'])]\n",
    "\n",
    "# Step 3: Handle missing values and apply log transform\n",
    "data = data.fillna(0)\n",
    "data['median_house_value'] = np.log1p(data['median_house_value'])\n",
    "\n",
    "# Step 4: Split the data\n",
    "df_train, df_test = train_test_split(data, test_size=0.4, random_state=1)\n",
    "df_val, df_test = train_test_split(df_test, test_size=0.5, random_state=1)\n",
    "\n",
    "# Step 5: Convert dataframes to matrices\n",
    "train_dicts = df_train.to_dict(orient='records')\n",
    "dv = DictVectorizer(sparse=True)\n",
    "X_train = dv.fit_transform(train_dicts)\n",
    "y_train = df_train['median_house_value']\n",
    "\n",
    "# Step 6: Initialize and train the model\n",
    "dt = DecisionTreeRegressor(max_depth=1)\n",
    "dt.fit(X_train, y_train)\n",
    "\n",
    "# Step 7: Investigate the trained model\n",
    "print(export_text(dt, feature_names=list(dv.get_feature_names_out())))\n"
   ]
  },
  {
   "cell_type": "code",
   "execution_count": null,
   "id": "e3ef36fd",
   "metadata": {},
   "outputs": [],
   "source": []
  }
 ],
 "metadata": {
  "kernelspec": {
   "display_name": "Python 3 (ipykernel)",
   "language": "python",
   "name": "python3"
  },
  "language_info": {
   "codemirror_mode": {
    "name": "ipython",
    "version": 3
   },
   "file_extension": ".py",
   "mimetype": "text/x-python",
   "name": "python",
   "nbconvert_exporter": "python",
   "pygments_lexer": "ipython3",
   "version": "3.7.15"
  }
 },
 "nbformat": 4,
 "nbformat_minor": 5
}
